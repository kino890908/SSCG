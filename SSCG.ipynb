{
 "cells": [
  {
   "cell_type": "markdown",
   "metadata": {},
   "source": [
    "### **SSCG訓練程式**"
   ]
  },
  {
   "cell_type": "code",
   "execution_count": null,
   "metadata": {},
   "outputs": [],
   "source": [
    "for i in range(10):\n",
    "    model_path=f\"SSCG_20_130_256_withnormal_{i}.pth\"\n",
    "    from SSCG import SSCGTrainer2\n",
    "    trainer = SSCGTrainer2(model_path)\n",
    "\n",
    "    # 使用指定的特徵進行訓練\n",
    "    selected_features = [\n",
    "        'Z-axis Angular Velocity', 'Yaw (deg)', 'Y-axis Acceleration', \n",
    "        'Z-axis Acceleration', 'Pitch (deg)', 'X-axis Angular Velocity', \n",
    "        'Y-axis Angular Velocity', 'X-axis Acceleration', 'Roll (deg)', \n",
    "        'Vehicle Speed'\n",
    "    ]\n",
    "\n",
    "    # 訓練模型\n",
    "    #model = trainer.train_model('mixed_trainbyeric.csv', selected_features=selected_features, epochs=16, batch_size=512)\n",
    "    model = trainer.train_model('augmented_mixedtrain5.csv', selected_features=selected_features, epochs=20, batch_size=256, window_size=130)\n",
    "    #model = trainer.train_model(r'augmented_mixedtrain5.csv', selected_features=selected_features, epochs=18, batch_size=256)\n"
   ]
  },
  {
   "cell_type": "markdown",
   "metadata": {},
   "source": [
    "### **SSCG測試程式**"
   ]
  },
  {
   "cell_type": "code",
   "execution_count": null,
   "metadata": {},
   "outputs": [],
   "source": [
    "from SSCG_nan import SSCGTester2\n",
    "for i in range(10):\n",
    "    # 生成模型名稱\n",
    "    model_path=f\"SSCG_36_30_256/SSCG_36_30_256_{i}.pth\"\n",
    "    # 初始化測試器\n",
    "    tester = SSCGTester2(model_path)\n",
    "    \n",
    "    # 執行測試\n",
    "    tester.test_model(\n",
    "        r'mixedtest5.csv',\n",
    "        selected_features=[\n",
    "            'Z-axis Angular Velocity', 'Yaw (deg)', 'Y-axis Acceleration', \n",
    "            'Z-axis Acceleration', 'Pitch (deg)', 'X-axis Angular Velocity', \n",
    "            'Y-axis Angular Velocity', 'X-axis Acceleration', 'Roll (deg)', \n",
    "            'Vehicle Speed'\n",
    "        ],\n",
    "        frequency=6,\n",
    "        save_predictions_path=f'SSCG_36_30_256/SSCG_36_30_256_{i}.csv', window_size = 30 ) # 保存預測結果的路徑，每次保存不同檔案"
   ]
  },
  {
   "cell_type": "markdown",
   "metadata": {},
   "source": [
    "### **SSCG測試程式_測第一筆，但檢查**"
   ]
  },
  {
   "cell_type": "code",
   "execution_count": null,
   "metadata": {},
   "outputs": [],
   "source": [
    "from SSCG_nan_1 import SSCGTester2\n",
    "for i in range(10):\n",
    "    # 生成模型名稱\n",
    "    model_path=f\"SSCG_5_120_256_withnormal/SSCG_5_120_256_withnormal_{i}.pth\"\n",
    "    # 初始化測試器\n",
    "    tester = SSCGTester2(model_path)\n",
    "    \n",
    "    # 執行測試\n",
    "    tester.test_model(\n",
    "        r'mixedtest5.csv',\n",
    "        selected_features=[\n",
    "            'Z-axis Angular Velocity', 'Yaw (deg)', 'Y-axis Acceleration', \n",
    "            'Z-axis Acceleration', 'Pitch (deg)', 'X-axis Angular Velocity', \n",
    "            'Y-axis Angular Velocity', 'X-axis Acceleration', 'Roll (deg)', \n",
    "            'Vehicle Speed'\n",
    "        ],\n",
    "        frequency=6,\n",
    "        save_predictions_path=f'SSCG_5_120_256_withnormal/SSCG_5_120_256_withnormal_{i}.csv'\n",
    "        , window_size = 120 \n",
    "        ,save_detailed_csv_path = f'SSCG_5_120_256_withnormal/SSCG_5_120_256_withnormal_detail_{i}.csv' ) # 保存預測結果的路徑，每次保存不同檔案"
   ]
  },
  {
   "cell_type": "code",
   "execution_count": null,
   "metadata": {},
   "outputs": [],
   "source": [
    "from SSCG_nan_1 import SSCGTester2\n",
    "for i in range(10):\n",
    "    # 生成模型名稱\n",
    "    model_path=f\"SSCG_30_120_256_withnormal_alan_augmented/SSCG_30_120_256_withnormal_{i}.pth\"\n",
    "    # 初始化測試器\n",
    "    tester = SSCGTester2(model_path)\n",
    "    \n",
    "    # 執行測試\n",
    "    tester.test_model(\n",
    "        r'20240708_alan_sliding_window_merged.csv',\n",
    "        selected_features=[\n",
    "            'Z-axis Angular Velocity', 'Yaw (deg)', 'Y-axis Acceleration', \n",
    "            'Z-axis Acceleration', 'Pitch (deg)', 'X-axis Angular Velocity', \n",
    "            'Y-axis Angular Velocity', 'X-axis Acceleration', 'Roll (deg)', \n",
    "            'Vehicle Speed'\n",
    "        ],\n",
    "        frequency=3,\n",
    "        save_predictions_path=f'SSCG_30_120_256_withnormal_alan_augmented/SSCG_30_120_256_withnormal_{i}.csv'\n",
    "        , window_size = 120 \n",
    "        ,save_detailed_csv_path = f'SSCG_30_120_256_withnormal_alan_augmented/SSCG_30_120_256_withnormal_detail_{i}.csv' ) # 保存預測結果的路徑，每次保存不同檔案"
   ]
  }
 ],
 "metadata": {
  "kernelspec": {
   "display_name": ".venv",
   "language": "python",
   "name": "python3"
  },
  "language_info": {
   "codemirror_mode": {
    "name": "ipython",
    "version": 3
   },
   "file_extension": ".py",
   "mimetype": "text/x-python",
   "name": "python",
   "nbconvert_exporter": "python",
   "pygments_lexer": "ipython3",
   "version": "3.10.12"
  }
 },
 "nbformat": 4,
 "nbformat_minor": 2
}
